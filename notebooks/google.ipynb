{
 "cells": [
  {
   "cell_type": "markdown",
   "metadata": {},
   "source": [
    "# Google Smart Home \n",
    "\n",
    "> Set up a custom smart home action to control some devices that require composite actions."
   ]
  },
  {
   "cell_type": "code",
   "execution_count": 21,
   "metadata": {},
   "outputs": [],
   "source": [
    "# | default_exp google\n",
    "# | export\n",
    "import uvicorn\n",
    "\n",
    "from typing import List, Optional\n",
    "from fastapi import FastAPI\n",
    "from fastcore.script import call_parse\n",
    "from pydantic import BaseModel, Field, conlist\n",
    "from uuid import UUID, uuid4"
   ]
  },
  {
   "cell_type": "markdown",
   "metadata": {},
   "source": [
    "## Motivation\n",
    "\n",
    "* I have a ceiling fan with a light that can be controlled by two things:\n",
    "    * A light switch actuated by a [Switchbot](https://www.switch-bot.com/), and\n",
    "    * the ceiling fan itself controlled by a [Tuya RF Controller](https://expo.tuya.com/product/854009)\n",
    "* I want to be able to control the light and fan from Google Assistant.\n"
   ]
  },
  {
   "cell_type": "markdown",
   "metadata": {},
   "source": [
    "## Account Linking\n",
    "\n",
    "* Set up the necessary project in Google cloud to create a smart home action \n",
    "    * **Warning:** If you create a smart home action on an existing project, then delete the project from the Actions Console, you will delete the GCP project as well. Thankfully, things can be restored!|\n",
    "* I had set up terraform to point to port 3838 on my development server, so that I can create a Smart Home Action.\n",
    "    * Nifty that you can reference a github address as a module, so I just took the module from [TJCloud](https://github.com/tjpalanca/tjcloud)\n",
    "* Account linking had worked after a few rejiggers of terraform!"
   ]
  },
  {
   "cell_type": "markdown",
   "metadata": {},
   "source": [
    "## Intent Fulfillment \n",
    "\n",
    "* The way that the Smart Home Actions work is by fulfilling \"intents\" that are sent to the endpoint.\n",
    "* I couldn't get Google to reach my app through OAuth2 Proxy at first, it kept redirecting the sync request to login. Setting `--skip-jwt-bearer-token=true` fixed this as it allowed the request to come through with just the bearer token."
   ]
  },
  {
   "cell_type": "markdown",
   "metadata": {},
   "source": [
    "## Devices"
   ]
  },
  {
   "cell_type": "code",
   "execution_count": 22,
   "metadata": {},
   "outputs": [
    {
     "ename": "TypeError",
     "evalue": "Cannot instantiate typing.Optional",
     "output_type": "error",
     "traceback": [
      "\u001b[0;31m---------------------------------------------------------------------------\u001b[0m",
      "\u001b[0;31mTypeError\u001b[0m                                 Traceback (most recent call last)",
      "Cell \u001b[0;32mIn [22], line 1\u001b[0m\n\u001b[0;32m----> 1\u001b[0m \u001b[38;5;28;01mclass\u001b[39;00m \u001b[38;5;21;01mGoogleDevice\u001b[39;00m(BaseModel):\n\u001b[1;32m      2\u001b[0m     \u001b[38;5;28mid\u001b[39m: \u001b[38;5;28mstr\u001b[39m \n\u001b[1;32m      3\u001b[0m     custom_data: Optional(\u001b[38;5;28mdict\u001b[39m)\n",
      "Cell \u001b[0;32mIn [22], line 3\u001b[0m, in \u001b[0;36mGoogleDevice\u001b[0;34m()\u001b[0m\n\u001b[1;32m      1\u001b[0m \u001b[38;5;28;01mclass\u001b[39;00m \u001b[38;5;21;01mGoogleDevice\u001b[39;00m(BaseModel):\n\u001b[1;32m      2\u001b[0m     \u001b[38;5;28mid\u001b[39m: \u001b[38;5;28mstr\u001b[39m \n\u001b[0;32m----> 3\u001b[0m     custom_data: \u001b[43mOptional\u001b[49m\u001b[43m(\u001b[49m\u001b[38;5;28;43mdict\u001b[39;49m\u001b[43m)\u001b[49m\n",
      "File \u001b[0;32m~/.pyenv/versions/3.10.7/lib/python3.10/typing.py:387\u001b[0m, in \u001b[0;36m_SpecialForm.__call__\u001b[0;34m(self, *args, **kwds)\u001b[0m\n\u001b[1;32m    386\u001b[0m \u001b[39mdef\u001b[39;00m \u001b[39m__call__\u001b[39m(\u001b[39mself\u001b[39m, \u001b[39m*\u001b[39margs, \u001b[39m*\u001b[39m\u001b[39m*\u001b[39mkwds):\n\u001b[0;32m--> 387\u001b[0m     \u001b[39mraise\u001b[39;00m \u001b[39mTypeError\u001b[39;00m(\u001b[39mf\u001b[39m\u001b[39m\"\u001b[39m\u001b[39mCannot instantiate \u001b[39m\u001b[39m{\u001b[39;00m\u001b[39mself\u001b[39m\u001b[39m!r}\u001b[39;00m\u001b[39m\"\u001b[39m)\n",
      "\u001b[0;31mTypeError\u001b[0m: Cannot instantiate typing.Optional"
     ]
    }
   ],
   "source": [
    "# |export\n",
    "class GoogleDevice(BaseModel):\n",
    "    id: str\n",
    "    custom_data: Optional[dict]"
   ]
  },
  {
   "cell_type": "markdown",
   "metadata": {},
   "source": [
    "## Intents"
   ]
  },
  {
   "cell_type": "code",
   "execution_count": 47,
   "metadata": {},
   "outputs": [
    {
     "data": {
      "text/plain": [
       "'{\"request_id\": \"8e9173ff-6956-4b42-8292-a04a18a6bda4\", \"inputs\": [{\"intent\": \"action.devices.DISCONNECT\"}]}'"
      ]
     },
     "execution_count": 47,
     "metadata": {},
     "output_type": "execute_result"
    }
   ],
   "source": [
    "# | export\n",
    "\n",
    "\n",
    "class Intent(BaseModel):\n",
    "    \"\"\"\n",
    "    Smart home intents are simple messaging objects that describe what smart home Action\n",
    "    to perform such as turn on a light or cast audio to a speaker.\n",
    "\n",
    "    [Reference](https://developers.google.com/assistant/smarthome/concepts/intents)\n",
    "    \"\"\"\n",
    "\n",
    "    class Input(BaseModel):\n",
    "        intent: str\n",
    "\n",
    "        class Payload(BaseModel):\n",
    "            devices: Optional[List[GoogleDevice]]\n",
    "\n",
    "    request_id: UUID = Field(default_factory=uuid4)\n",
    "    inputs: List[Input] = Field(min_items=1, max_items=1)\n",
    "\n",
    "\n",
    "class SyncIntent(Intent):\n",
    "    \"\"\"\n",
    "    This intent requests the list of devices associated with the given user and their\n",
    "    capabilities. It is triggered during account linking or when a user manually resyncs\n",
    "    their devices.\n",
    "\n",
    "    [Reference](https://developers.google.com/assistant/smarthome/reference/intent/sync)\n",
    "    \"\"\"\n",
    "\n",
    "    class SyncInput(Intent.Input):\n",
    "        \"\"\"Input for a sync intent\"\"\"\n",
    "\n",
    "        intent: str = \"action.devices.SYNC\"\n",
    "\n",
    "    inputs: List[SyncInput] = Field(min_items=1, max_items=1)\n",
    "\n",
    "\n",
    "class QueryIntent(Intent):\n",
    "    \"\"\"\n",
    "    This intent queries your fulfillment for the current states of devices, including\n",
    "    whether the device is online and reachable. Should only retrun state information\n",
    "\n",
    "    [Reference](https://developers.google.com/assistant/smarthome/reference/intent/query)\n",
    "    \"\"\"\n",
    "\n",
    "    class QueryInput(Intent.Input):\n",
    "        \"\"\"Input for a query intent\"\"\"\n",
    "\n",
    "        class QueryPayload(Intent.Input.Payload):\n",
    "            devices: List[GoogleDevice]\n",
    "            pass\n",
    "\n",
    "        intent: str = \"action.devices.QUERY\"\n",
    "        payload: QueryPayload\n",
    "\n",
    "    inputs: List[QueryInput] = Field(min_items=1, max_items=1)\n",
    "\n",
    "\n",
    "class ExecuteIntent(Intent):\n",
    "    \"\"\"\n",
    "    This intent requests that your fulfillment execute a command for a device. This\n",
    "    intent is triggered when a user says a phrase that matches a command defined in the\n",
    "    manifest.\n",
    "\n",
    "    [Reference](https://developers.google.com/assistant/smarthome/reference/intent/execute)\n",
    "    \"\"\"\n",
    "\n",
    "    class ExecuteInput(Intent.Input):\n",
    "        \"\"\"Input for an execute intent\"\"\"\n",
    "\n",
    "        class ExecutePayload(Intent.Input.Payload):\n",
    "            class Command(BaseModel):\n",
    "                class Execution(BaseModel):\n",
    "                    command: str\n",
    "                    params: Optional[dict]\n",
    "\n",
    "                devices: List[GoogleDevice]\n",
    "                execution: List[Execution]\n",
    "\n",
    "            commands: List[Command]\n",
    "\n",
    "        intent: str = \"action.devices.EXECUTE\"\n",
    "        payload: ExecutePayload\n",
    "\n",
    "    inputs: List[ExecuteInput] = Field(min_items=1, max_items=1)\n",
    "\n",
    "\n",
    "class DisconnectIntent(Intent):\n",
    "    \"\"\"\n",
    "    This intent requests that your fulfillment disconnect a user from your service. This\n",
    "    intent indicates that Google Assistant will not send additional intents for this\n",
    "    user.\n",
    "\n",
    "    [Reference](https://developers.google.com/assistant/smarthome/reference/intent/disconnect)\n",
    "    \"\"\"\n",
    "\n",
    "    class DisconnectInput(Intent.Input):\n",
    "        \"\"\"Input for a disconnect intent\"\"\"\n",
    "\n",
    "        intent: str = \"action.devices.DISCONNECT\"\n",
    "\n",
    "    inputs: List[DisconnectInput] = Field(min_items=1, max_items=1)"
   ]
  },
  {
   "cell_type": "code",
   "execution_count": null,
   "metadata": {},
   "outputs": [],
   "source": [
    "# | export\n",
    "app = FastAPI()"
   ]
  },
  {
   "cell_type": "code",
   "execution_count": null,
   "metadata": {},
   "outputs": [],
   "source": [
    "# | export\n",
    "@app.post(\"/google/fulfillment\")\n",
    "def google_fulfillment():\n",
    "    pass"
   ]
  },
  {
   "cell_type": "code",
   "execution_count": null,
   "metadata": {},
   "outputs": [],
   "source": [
    "# | export\n",
    "\n",
    "\n",
    "@call_parse\n",
    "def run(reload=True):\n",
    "    uvicorn.run(f\"{__name__}:app\", host=\"0.0.0.0\", port=3838, reload=reload)"
   ]
  },
  {
   "cell_type": "markdown",
   "metadata": {},
   "source": [
    "### Request Sync\n",
    "\n",
    "* We can trigger a sync request using [Request SYNC](https://developers.google.com/assistant/smarthome/develop/request-sync#http)."
   ]
  }
 ],
 "metadata": {
  "kernelspec": {
   "display_name": "Python 3.10.7 ('.venv': poetry)",
   "language": "python",
   "name": "python3"
  },
  "language_info": {
   "codemirror_mode": {
    "name": "ipython",
    "version": 3
   },
   "file_extension": ".py",
   "mimetype": "text/x-python",
   "name": "python",
   "nbconvert_exporter": "python",
   "pygments_lexer": "ipython3",
   "version": "3.10.7"
  },
  "vscode": {
   "interpreter": {
    "hash": "7fcbac3f2a4cd0583df9c361ad1c48618a8e6436c28c16eb11d4d4c8c769b93f"
   }
  }
 },
 "nbformat": 4,
 "nbformat_minor": 2
}
