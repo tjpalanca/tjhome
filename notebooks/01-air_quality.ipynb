{
 "cells": [
  {
   "cell_type": "markdown",
   "metadata": {},
   "source": [
    "# Air Quality \n",
    "\n",
    "> We create a `{dagster}` job that loads air quality data from a public source and then turns on the air purifiers as necessary."
   ]
  },
  {
   "cell_type": "code",
   "execution_count": null,
   "metadata": {},
   "outputs": [],
   "source": [
    "# | default_exp air_quality\n",
    "# | export\n",
    "import json\n",
    "import requests\n",
    "\n",
    "from urllib.parse import urljoin\n",
    "from tuya_iot import TuyaOpenAPI\n",
    "from pydantic import BaseModel\n",
    "from dagster import job, op, ScheduleDefinition\n",
    "from os import environ"
   ]
  },
  {
   "cell_type": "code",
   "execution_count": null,
   "metadata": {},
   "outputs": [],
   "source": [
    "from nbdev.showdoc import show_doc"
   ]
  },
  {
   "cell_type": "markdown",
   "metadata": {},
   "source": [
    "## Air Purifier\n",
    "\n",
    "We create a `TuyaAirPurifier` that we can use to turn on and off the air purifier."
   ]
  },
  {
   "cell_type": "code",
   "execution_count": null,
   "metadata": {},
   "outputs": [],
   "source": [
    "# | export\n",
    "class Device:\n",
    "    \"\"\"Generic class that encapsulates all smart home devices\"\"\"\n",
    "\n",
    "\n",
    "class AirPurifier(Device):\n",
    "    \"\"\"Air Purifiers purify the air and protect the home from pollution.\"\"\"\n",
    "\n",
    "\n",
    "class TuyaAirPurifier(BaseModel, AirPurifier):\n",
    "    \"\"\"Purifiers controlled by a Tuya Smart Switch\"\"\"\n",
    "\n",
    "    device_id: str\n",
    "    client_id: str\n",
    "    client_secret: str\n",
    "    country_code: str\n",
    "    username: str\n",
    "    password: str\n",
    "    endpoint: str = \"https://openapi.tuyaus.com\"\n",
    "    appschema: str = \"smartLife\"\n",
    "\n",
    "    def __post_init__(self):\n",
    "        self.client = TuyaOpenAPI(self.endpoint, self.client_id, self.client_secret)\n",
    "        self.client.connect(\n",
    "            self.username, self.password, self.country_code, self.appschema\n",
    "        )\n",
    "\n",
    "    def switch(self, on: bool = True):\n",
    "        self.client.post(\n",
    "            f\"/v1.0/devices/{self.device_id}/commands\",\n",
    "            {\"commands\": [{\"code\": \"switch_1\", \"value\": on}]},\n",
    "        )\n",
    "\n",
    "    def turn_on(self):\n",
    "        self.switch(True)\n",
    "\n",
    "    def turn_off(self):\n",
    "        self.switch(False)"
   ]
  },
  {
   "cell_type": "markdown",
   "metadata": {},
   "source": [
    "## Air Quality Source \n",
    "\n",
    "We fetch air quality data for the nearest location from the  [aqicn.org API](https://aqicn.org/json-api/doc/)."
   ]
  },
  {
   "cell_type": "code",
   "execution_count": null,
   "metadata": {},
   "outputs": [],
   "source": [
    "# | export\n",
    "class AirQualityAPIClient:\n",
    "    \"\"\"\n",
    "    Air Quality Index API Client\n",
    "\n",
    "    [Documentation](https://aqicn.org/json-api/doc/)\n",
    "    \"\"\"\n",
    "\n",
    "    base_url = \"http://api.waqi.info/\"\n",
    "\n",
    "    def __init__(self, token: str):\n",
    "        self.token = token\n",
    "\n",
    "    def fetch_aqi_in_latlng(self, lat: float, lng: float):\n",
    "        resp = requests.get(\n",
    "            urljoin(self.base_url, f\"/feed/geo:{lat};{lng}/\"),\n",
    "            params={\"token\": self.token},\n",
    "        )\n",
    "        return int(resp.json()[\"data\"][\"aqi\"])"
   ]
  },
  {
   "cell_type": "markdown",
   "metadata": {},
   "source": [
    "## Dagster Job \n",
    "\n",
    "We create a dagster job that performs the automation. "
   ]
  },
  {
   "cell_type": "code",
   "execution_count": null,
   "metadata": {},
   "outputs": [],
   "source": [
    "# | export\n",
    "@op\n",
    "def current_aqi(context) -> int:\n",
    "    \"Fetch the current AQI from AQICN.org\"\n",
    "    client = AirQualityAPIClient(environ[\"AQI_API_TOKEN\"])\n",
    "    aqi = client.fetch_aqi_in_latlng(*json.loads(environ[\"HOME_LOCATION\"]))\n",
    "    context.log.info(f\"AQI Index: {aqi}\")\n",
    "    return aqi"
   ]
  },
  {
   "cell_type": "code",
   "execution_count": null,
   "metadata": {},
   "outputs": [
    {
     "data": {
      "text/markdown": [
       "---\n",
       "\n",
       "### current_aqi\n",
       "\n",
       ">      current_aqi (context)\n",
       "\n",
       "Fetch the current AQI from AQICN.org"
      ],
      "text/plain": [
       "---\n",
       "\n",
       "### current_aqi\n",
       "\n",
       ">      current_aqi (context)\n",
       "\n",
       "Fetch the current AQI from AQICN.org"
      ]
     },
     "execution_count": null,
     "metadata": {},
     "output_type": "execute_result"
    }
   ],
   "source": [
    "show_doc(current_aqi)"
   ]
  },
  {
   "cell_type": "code",
   "execution_count": null,
   "metadata": {},
   "outputs": [],
   "source": [
    "# | export\n",
    "@op\n",
    "def air_purifier_control(\n",
    "    context,\n",
    "    current_aqi,  # Current AQI reading\n",
    "    threshold=50,  # AQI Threshold above which to turn on air purifier\n",
    ") -> None:\n",
    "    \"\"\"\n",
    "    If the current AQI exceeds the defined threshold, we turn on the air purifier.\n",
    "    Otherwise, we turn it off.\n",
    "    \"\"\"\n",
    "    for device_id in json.loads(environ[\"AIR_PURIFIER_DEVICE_IDS\"]):\n",
    "        device = TuyaAirPurifier(\n",
    "            device_id,\n",
    "            environ[\"TUYA_CLIENT_ID\"],\n",
    "            environ[\"TUYA_CLIENT_SECRET\"],\n",
    "            \"63\",\n",
    "            environ[\"TUYA_USERNAME\"],\n",
    "            environ[\"TUYA_PASSWORD\"],\n",
    "        )\n",
    "        if current_aqi > threshold:\n",
    "            context.log.info(f\"AQI {threshold} exceeded. Turning on purifier...\")\n",
    "            device.turn_on()\n",
    "        else:\n",
    "            context.log.info(f\"AQI {threshold} reached. Turning off purifier...\")\n",
    "            device.turn_off()\n",
    "        return"
   ]
  },
  {
   "cell_type": "code",
   "execution_count": null,
   "metadata": {},
   "outputs": [
    {
     "data": {
      "text/markdown": [
       "---\n",
       "\n",
       "### air_purifier_control\n",
       "\n",
       ">      air_purifier_control (context, current_aqi, threshold=50)\n",
       "\n",
       "If the current AQI exceeds the defined threshold, we turn on the air purifier.\n",
       "Otherwise, we turn it off.\n",
       "\n",
       "|    | **Type** | **Default** | **Details** |\n",
       "| -- | -------- | ----------- | ----------- |\n",
       "| context |  |  |  |\n",
       "| current_aqi |  |  | Current AQI reading |\n",
       "| threshold | int | 50 | AQI Threshold above which to turn on air purifier |\n",
       "| **Returns** | **None** |  |  |"
      ],
      "text/plain": [
       "---\n",
       "\n",
       "### air_purifier_control\n",
       "\n",
       ">      air_purifier_control (context, current_aqi, threshold=50)\n",
       "\n",
       "If the current AQI exceeds the defined threshold, we turn on the air purifier.\n",
       "Otherwise, we turn it off.\n",
       "\n",
       "|    | **Type** | **Default** | **Details** |\n",
       "| -- | -------- | ----------- | ----------- |\n",
       "| context |  |  |  |\n",
       "| current_aqi |  |  | Current AQI reading |\n",
       "| threshold | int | 50 | AQI Threshold above which to turn on air purifier |\n",
       "| **Returns** | **None** |  |  |"
      ]
     },
     "execution_count": null,
     "metadata": {},
     "output_type": "execute_result"
    }
   ],
   "source": [
    "show_doc(air_purifier_control)"
   ]
  },
  {
   "cell_type": "code",
   "execution_count": null,
   "metadata": {},
   "outputs": [],
   "source": [
    "# |export\n",
    "@job\n",
    "def regulate_air_quality():\n",
    "    \"Dagster Job regulates air quality\"\n",
    "    air_purifier_control(current_aqi())\n",
    "\n",
    "\n",
    "regulate_air_quality_schedule = ScheduleDefinition(\n",
    "    job=regulate_air_quality, cron_schedule=\"*/1 * * * *\"\n",
    ")"
   ]
  },
  {
   "cell_type": "code",
   "execution_count": null,
   "metadata": {},
   "outputs": [
    {
     "data": {
      "text/markdown": [
       "---\n",
       "\n",
       "### regulate_air_quality\n",
       "\n",
       ">      regulate_air_quality ()\n",
       "\n",
       "Dagster Job regulates air quality"
      ],
      "text/plain": [
       "---\n",
       "\n",
       "### regulate_air_quality\n",
       "\n",
       ">      regulate_air_quality ()\n",
       "\n",
       "Dagster Job regulates air quality"
      ]
     },
     "execution_count": null,
     "metadata": {},
     "output_type": "execute_result"
    }
   ],
   "source": [
    "show_doc(regulate_air_quality)"
   ]
  }
 ],
 "metadata": {
  "kernelspec": {
   "display_name": "Python 3.10.7 ('.venv': poetry)",
   "language": "python",
   "name": "python3"
  }
 },
 "nbformat": 4,
 "nbformat_minor": 2
}
