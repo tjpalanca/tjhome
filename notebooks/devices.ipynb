{
 "cells": [
  {
   "cell_type": "markdown",
   "metadata": {},
   "source": [
    "## Devices \n",
    "\n",
    "> Interfaces to the various smart home providers"
   ]
  },
  {
   "cell_type": "code",
   "execution_count": null,
   "metadata": {},
   "outputs": [],
   "source": [
    "# | default_exp devices\n",
    "# | export\n",
    "import os\n",
    "\n",
    "from typing import Any, Optional\n",
    "from pydantic import BaseModel\n",
    "from tuya_iot import TuyaOpenAPI\n",
    "from switchbot_client import SwitchBotClient"
   ]
  },
  {
   "cell_type": "markdown",
   "metadata": {},
   "source": [
    "## Base Models"
   ]
  },
  {
   "cell_type": "code",
   "execution_count": null,
   "metadata": {},
   "outputs": [],
   "source": [
    "# | export\n",
    "class Device:\n",
    "    \"Base class for all smart home devices\"\n",
    "\n",
    "\n",
    "class AirPurifier:\n",
    "    \"Air Purifier device\"\n",
    "\n",
    "\n",
    "class Fan(Device):\n",
    "    \"A Fan device\"\n",
    "\n",
    "\n",
    "class CeilingFan(Device):\n",
    "    \"A Fan that is attached to the ceiling\"\n",
    "\n",
    "\n",
    "class TuyaDevice(BaseModel):\n",
    "    \"\"\"\n",
    "    A device controlled by the Tuya Cloud.\n",
    "    \"\"\"\n",
    "\n",
    "    client_id: str\n",
    "    client_secret: str\n",
    "    username: str\n",
    "    password: str\n",
    "    country_code: str\n",
    "    endpoint: str = \"https://openapi.tuyaus.com\"\n",
    "    appschema: str = \"smartLife\"\n",
    "    client: Optional[Any]\n",
    "\n",
    "    def connect(self):\n",
    "        self.client = TuyaOpenAPI(self.endpoint, self.client_id, self.client_secret)\n",
    "        self.client.connect(\n",
    "            self.username, self.password, self.country_code, self.appschema\n",
    "        )\n",
    "\n",
    "\n",
    "class TuyaSceneDevice(TuyaDevice):\n",
    "    \"\"\"\n",
    "    A device controlled via scenes in the Tuya Cloud.\n",
    "    \"\"\"\n",
    "\n",
    "    home_id: str\n",
    "\n",
    "    def trigger_scene(self, id: str):\n",
    "        self.client.post(f\"/v1.0/homes/{self.home_id}/scenes/{id}/trigger\")\n",
    "\n",
    "    def trigger(self, action: str):\n",
    "        self.trigger_scene(getattr(self, f\"{action}_scene_id\"))"
   ]
  },
  {
   "cell_type": "code",
   "execution_count": null,
   "metadata": {},
   "outputs": [],
   "source": [
    "from nbdev.showdoc import show_doc"
   ]
  },
  {
   "cell_type": "markdown",
   "metadata": {},
   "source": [
    "## Air Purifier\n",
    "\n",
    "We create a `TuyaAirPurifier` that we can use to turn on and off the air purifier."
   ]
  },
  {
   "cell_type": "code",
   "execution_count": null,
   "metadata": {},
   "outputs": [],
   "source": [
    "# | export\n",
    "class TuyaAirPurifier(TuyaDevice, AirPurifier):\n",
    "    \"\"\"Purifiers controlled by a Tuya Smart Switch\"\"\"\n",
    "\n",
    "    device_id: str\n",
    "\n",
    "    def switch(self, on: bool = True):\n",
    "        self.client.post(\n",
    "            f\"/v1.0/devices/{self.device_id}/commands\",\n",
    "            {\"commands\": [{\"code\": \"switch_1\", \"value\": on}]},\n",
    "        )\n",
    "\n",
    "    def turn_on(self):\n",
    "        self.switch(True)\n",
    "\n",
    "    def turn_off(self):\n",
    "        self.switch(False)"
   ]
  },
  {
   "cell_type": "markdown",
   "metadata": {},
   "source": [
    "## Ceiling Fans \n",
    "\n",
    "I have a three ceiling fans in the home controlled through RF frequencies."
   ]
  },
  {
   "cell_type": "code",
   "execution_count": null,
   "metadata": {},
   "outputs": [],
   "source": [
    "# | export\n",
    "class DaikoCeilingFan1(TuyaSceneDevice, CeilingFan):\n",
    "    light_scene_id: str\n",
    "    fan_scene_id: str\n",
    "    fan_1_scene_id: str\n",
    "    fan_2_scene_id: str\n",
    "    fan_3_scene_id: str"
   ]
  },
  {
   "cell_type": "code",
   "execution_count": null,
   "metadata": {},
   "outputs": [],
   "source": [
    "# | export\n",
    "living_area_ceiling_fan = DaikoCeilingFan1(\n",
    "    home_id=os.getenv(\"TUYA_HOME_ID\"),\n",
    "    client_id=os.getenv(\"TUYA_CLIENT_ID\"),\n",
    "    client_secret=os.getenv(\"TUYA_CLIENT_SECRET\"),\n",
    "    username=os.getenv(\"SMART_LIFE_USERNAME\"),\n",
    "    password=os.getenv(\"SMART_LIFE_PASSWORD\"),\n",
    "    country_code=\"PH\",\n",
    "    light_scene_id=\"AniQzKuX7A98n9gn\",\n",
    "    fan_scene_id=\"tmAFQYbx1oynJcG6\",\n",
    "    fan_1_scene_id=\"cXSEy5ALHoR4LT5H\",\n",
    "    fan_2_scene_id=\"fTwRU120YlR0nWOo\",\n",
    "    fan_3_scene_id=\"hOCfvtwpp1urauns\",\n",
    ")"
   ]
  },
  {
   "cell_type": "code",
   "execution_count": null,
   "metadata": {},
   "outputs": [],
   "source": [
    "# | export\n",
    "class DaikoCeilingFan2(TuyaSceneDevice, CeilingFan):\n",
    "    light_scene_id: str\n",
    "    fan_off_scene_id: str\n",
    "    fan_1_scene_id: str\n",
    "    fan_2_scene_id: str\n",
    "    fan_3_scene_id: str"
   ]
  },
  {
   "cell_type": "code",
   "execution_count": null,
   "metadata": {},
   "outputs": [],
   "source": [
    "# | export\n",
    "master_bedroom_ceiling_fan = DaikoCeilingFan2(\n",
    "    home_id=os.getenv(\"TUYA_HOME_ID\"),\n",
    "    client_id=os.getenv(\"TUYA_CLIENT_ID\"),\n",
    "    client_secret=os.getenv(\"TUYA_CLIENT_SECRET\"),\n",
    "    username=os.getenv(\"SMART_LIFE_USERNAME\"),\n",
    "    password=os.getenv(\"SMART_LIFE_PASSWORD\"),\n",
    "    country_code=\"PH\",\n",
    "    light_scene_id=\"ooGJVKFOQ586ZPDb\",\n",
    "    fan_off_scene_id=\"tIOVX91BOrpgH86A\",\n",
    "    fan_1_scene_id=\"JmJpPLVlqhURktzX\",\n",
    "    fan_2_scene_id=\"Y3tAAqXdEGfarxje\",\n",
    "    fan_3_scene_id=\"rS34nHG6BRE4ddza\",\n",
    ")"
   ]
  },
  {
   "cell_type": "code",
   "execution_count": null,
   "metadata": {},
   "outputs": [],
   "source": [
    "# | export\n",
    "common_bedroom_ceiling_fan = DaikoCeilingFan2(\n",
    "    home_id=os.getenv(\"TUYA_HOME_ID\"),\n",
    "    client_id=os.getenv(\"TUYA_CLIENT_ID\"),\n",
    "    client_secret=os.getenv(\"TUYA_CLIENT_SECRET\"),\n",
    "    username=os.getenv(\"SMART_LIFE_USERNAME\"),\n",
    "    password=os.getenv(\"SMART_LIFE_PASSWORD\"),\n",
    "    country_code=\"PH\",\n",
    "    light_scene_id=\"RQB0qD2ec5AqPmT3\",\n",
    "    fan_off_scene_id=\"RWA1GutcWMWTuaPu\",\n",
    "    fan_1_scene_id=\"ec4UBLRrVukAm5rG\",\n",
    "    fan_2_scene_id=\"bHsXR52LReWvhxSL\",\n",
    "    fan_3_scene_id=\"mg8wiQ4u9WTMy6BM\",\n",
    ")"
   ]
  },
  {
   "cell_type": "markdown",
   "metadata": {},
   "source": [
    "## SwitchBots \n",
    "\n",
    "The Ceiling Fans are attached to switches controlled by Switchbot, so in order to control it, I'm going to need to also control the Switchbot."
   ]
  },
  {
   "cell_type": "code",
   "execution_count": null,
   "metadata": {},
   "outputs": [],
   "source": [
    "import requests\n",
    "import hashlib\n",
    "import hmac\n",
    "import base64\n",
    "import time\n",
    "import uuid\n",
    "import os\n",
    "import json\n",
    "\n",
    "from urllib.parse import urljoin\n",
    "\n",
    "\n",
    "def switchbot_device_list():\n",
    "    \"\"\"\n",
    "    Existing Python API clients do not work with the DIY Fan Controller and cause an\n",
    "    error upon device listing. This function is designed to return that list for use\n",
    "    in the other API clients.\n",
    "    \"\"\"\n",
    "    timestamp = int(round(time.time() * 1000))\n",
    "    opentoken = os.getenv(\"SWITCHBOT_OPEN_TOKEN\")\n",
    "    secretkey = os.getenv(\"SWITCHBOT_SECRET_KEY\")\n",
    "    signature = bytes(f\"{opentoken}{timestamp}\", \"utf-8\")\n",
    "    secretkey = bytes(secretkey, \"utf-8\")\n",
    "    signature = base64.b64encode(\n",
    "        hmac.new(secretkey, msg=signature, digestmod=hashlib.sha256).digest()\n",
    "    )\n",
    "\n",
    "    switchbot_api_host = \"https://api.switch-bot.com\"\n",
    "    response = requests.get(\n",
    "        url=urljoin(switchbot_api_host, \"/v1.1/devices\"),\n",
    "        headers={\n",
    "            \"Authorization\": opentoken,\n",
    "            \"sign\": signature,\n",
    "            \"nonce\": \"\",\n",
    "            \"t\": str(timestamp),\n",
    "        },\n",
    "    )\n",
    "    return json.loads(response.content)[\"body\"][\"deviceList\"]"
   ]
  },
  {
   "cell_type": "code",
   "execution_count": null,
   "metadata": {},
   "outputs": [],
   "source": [
    "# | export\n",
    "\n",
    "\n",
    "class SwitchBot(BaseModel):\n",
    "    \"A Switchbot controlling a light switch\"\n",
    "    device_id: str\n",
    "    device: Optional[Any]\n",
    "    client: Optional[Any]\n",
    "\n",
    "    def connect(self):\n",
    "        self.client = SwitchBotClient()\n",
    "        self.device = self.client.device(self.device_id)\n",
    "        return self\n",
    "\n",
    "    def turn_on(self):\n",
    "        self.device.turn_on()\n",
    "\n",
    "    def turn_off(self):\n",
    "        self.device.turn_off()"
   ]
  },
  {
   "cell_type": "code",
   "execution_count": null,
   "metadata": {},
   "outputs": [],
   "source": [
    "master_bedroom_ceiling_fan_switch = SwitchBot(device_id=\"E307787C88C3\")"
   ]
  },
  {
   "cell_type": "code",
   "execution_count": null,
   "metadata": {},
   "outputs": [],
   "source": [
    "common_bedroom_ceiling_fan_switch = SwitchBot(device_id=\"F326616FB7D2\")"
   ]
  }
 ],
 "metadata": {
  "kernelspec": {
   "display_name": "Python 3.10.7 ('.venv': poetry)",
   "language": "python",
   "name": "python3"
  }
 },
 "nbformat": 4,
 "nbformat_minor": 2
}
