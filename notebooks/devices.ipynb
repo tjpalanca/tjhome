{
 "cells": [
  {
   "cell_type": "markdown",
   "metadata": {},
   "source": [
    "## Devices \n",
    "\n",
    "> Interfaces to the various smart home providers"
   ]
  },
  {
   "cell_type": "code",
   "execution_count": 75,
   "metadata": {},
   "outputs": [],
   "source": [
    "# | default_exp devices\n",
    "# | export\n",
    "import os\n",
    "\n",
    "from typing import Any, Optional\n",
    "from pydantic import BaseModel\n",
    "from tuya_iot import TuyaOpenAPI"
   ]
  },
  {
   "cell_type": "markdown",
   "metadata": {},
   "source": [
    "## Base Models"
   ]
  },
  {
   "cell_type": "code",
   "execution_count": 76,
   "metadata": {},
   "outputs": [],
   "source": [
    "# | export\n",
    "class Device:\n",
    "    \"Base class for all smart home devices\"\n",
    "\n",
    "\n",
    "class AirPurifier:\n",
    "    \"Air Purifier device\"\n",
    "\n",
    "\n",
    "class Fan(Device):\n",
    "    \"A Fan device\"\n",
    "\n",
    "\n",
    "class CeilingFan(Device):\n",
    "    \"A Fan that is attached to the ceiling\"\n",
    "\n",
    "\n",
    "class TuyaDevice(BaseModel):\n",
    "    \"\"\"\n",
    "    A device controlled by the Tuya Cloud.\n",
    "    \"\"\"\n",
    "\n",
    "    client_id: str\n",
    "    client_secret: str\n",
    "    username: str\n",
    "    password: str\n",
    "    country_code: str\n",
    "    endpoint: str = \"https://openapi.tuyaus.com\"\n",
    "    appschema: str = \"smartLife\"\n",
    "    client: Optional[Any]\n",
    "\n",
    "    def connect(self):\n",
    "        self.client = TuyaOpenAPI(self.endpoint, self.client_id, self.client_secret)\n",
    "        self.client.connect(\n",
    "            self.username, self.password, self.country_code, self.appschema\n",
    "        )\n",
    "\n",
    "\n",
    "class TuyaSceneDevice(TuyaDevice):\n",
    "    \"\"\"\n",
    "    A device controlled via scenes in the Tuya Cloud.\n",
    "    \"\"\"\n",
    "\n",
    "    home_id: str\n",
    "\n",
    "    def trigger_scene(self, id: str):\n",
    "        self.client.post(f\"/v1.0/homes/{self.home_id}/scenes/{id}/trigger\")\n",
    "\n",
    "    def trigger(self, action: str):\n",
    "        self.trigger_scene(getattr(self, f\"{action}_scene_id\"))"
   ]
  },
  {
   "cell_type": "code",
   "execution_count": 77,
   "metadata": {},
   "outputs": [],
   "source": [
    "from nbdev.showdoc import show_doc"
   ]
  },
  {
   "cell_type": "markdown",
   "metadata": {},
   "source": [
    "## Air Purifier\n",
    "\n",
    "We create a `TuyaAirPurifier` that we can use to turn on and off the air purifier."
   ]
  },
  {
   "cell_type": "code",
   "execution_count": 78,
   "metadata": {},
   "outputs": [],
   "source": [
    "# | export\n",
    "class TuyaAirPurifier(TuyaDevice, AirPurifier):\n",
    "    \"\"\"Purifiers controlled by a Tuya Smart Switch\"\"\"\n",
    "\n",
    "    device_id: str\n",
    "\n",
    "    def switch(self, on: bool = True):\n",
    "        self.client.post(\n",
    "            f\"/v1.0/devices/{self.device_id}/commands\",\n",
    "            {\"commands\": [{\"code\": \"switch_1\", \"value\": on}]},\n",
    "        )\n",
    "\n",
    "    def turn_on(self):\n",
    "        self.switch(True)\n",
    "\n",
    "    def turn_off(self):\n",
    "        self.switch(False)"
   ]
  },
  {
   "cell_type": "markdown",
   "metadata": {},
   "source": [
    "## Ceiling Fans \n",
    "\n",
    "I have a three ceiling fans in the home controlled through RF frequencies."
   ]
  },
  {
   "cell_type": "code",
   "execution_count": 79,
   "metadata": {},
   "outputs": [],
   "source": [
    "# | export\n",
    "class DaikoCeilingFan1(TuyaSceneDevice, CeilingFan):\n",
    "    light_scene_id: str\n",
    "    fan_scene_id: str\n",
    "    fan_1_scene_id: str\n",
    "    fan_2_scene_id: str\n",
    "    fan_3_scene_id: str"
   ]
  },
  {
   "cell_type": "code",
   "execution_count": 80,
   "metadata": {},
   "outputs": [],
   "source": [
    "# | export\n",
    "living_area_ceiling_fan = DaikoCeilingFan1(\n",
    "    home_id=os.getenv(\"TUYA_HOME_ID\"),\n",
    "    client_id=os.getenv(\"TUYA_CLIENT_ID\"),\n",
    "    client_secret=os.getenv(\"TUYA_CLIENT_SECRET\"),\n",
    "    username=os.getenv(\"SMART_LIFE_USERNAME\"),\n",
    "    password=os.getenv(\"SMART_LIFE_PASSWORD\"),\n",
    "    country_code=\"PH\",\n",
    "    light_scene_id=\"AniQzKuX7A98n9gn\",\n",
    "    fan_scene_id=\"tmAFQYbx1oynJcG6\",\n",
    "    fan_1_scene_id=\"cXSEy5ALHoR4LT5H\",\n",
    "    fan_2_scene_id=\"fTwRU120YlR0nWOo\",\n",
    "    fan_3_scene_id=\"hOCfvtwpp1urauns\",\n",
    ")"
   ]
  },
  {
   "cell_type": "code",
   "execution_count": 81,
   "metadata": {},
   "outputs": [],
   "source": [
    "# | export\n",
    "class DaikoCeilingFan2(TuyaSceneDevice, CeilingFan):\n",
    "    light_scene_id: str\n",
    "    fan_off_scene_id: str\n",
    "    fan_1_scene_id: str\n",
    "    fan_2_scene_id: str\n",
    "    fan_3_scene_id: str"
   ]
  },
  {
   "cell_type": "code",
   "execution_count": 83,
   "metadata": {},
   "outputs": [],
   "source": [
    "# | export\n",
    "master_bedroom_ceiling_fan = DaikoCeilingFan2(\n",
    "    home_id=os.getenv(\"TUYA_HOME_ID\"),\n",
    "    client_id=os.getenv(\"TUYA_CLIENT_ID\"),\n",
    "    client_secret=os.getenv(\"TUYA_CLIENT_SECRET\"),\n",
    "    username=os.getenv(\"SMART_LIFE_USERNAME\"),\n",
    "    password=os.getenv(\"SMART_LIFE_PASSWORD\"),\n",
    "    country_code=\"PH\",\n",
    "    light_scene_id=\"ooGJVKFOQ586ZPDb\",\n",
    "    fan_off_scene_id=\"tIOVX91BOrpgH86A\",\n",
    "    fan_1_scene_id=\"JmJpPLVlqhURktzX\",\n",
    "    fan_2_scene_id=\"Y3tAAqXdEGfarxje\",\n",
    "    fan_3_scene_id=\"rS34nHG6BRE4ddza\",\n",
    ")"
   ]
  },
  {
   "cell_type": "code",
   "execution_count": 84,
   "metadata": {},
   "outputs": [],
   "source": [
    "# | export\n",
    "common_bedroom_ceiling_fan = DaikoCeilingFan2(\n",
    "    home_id=os.getenv(\"TUYA_HOME_ID\"),\n",
    "    client_id=os.getenv(\"TUYA_CLIENT_ID\"),\n",
    "    client_secret=os.getenv(\"TUYA_CLIENT_SECRET\"),\n",
    "    username=os.getenv(\"SMART_LIFE_USERNAME\"),\n",
    "    password=os.getenv(\"SMART_LIFE_PASSWORD\"),\n",
    "    country_code=\"PH\",\n",
    "    light_scene_id=\"RQB0qD2ec5AqPmT3\",\n",
    "    fan_off_scene_id=\"RWA1GutcWMWTuaPu\",\n",
    "    fan_1_scene_id=\"ec4UBLRrVukAm5rG\",\n",
    "    fan_2_scene_id=\"bHsXR52LReWvhxSL\",\n",
    "    fan_3_scene_id=\"mg8wiQ4u9WTMy6BM\",\n",
    ")"
   ]
  }
 ],
 "metadata": {
  "kernelspec": {
   "display_name": "Python 3.10.7 ('.venv': poetry)",
   "language": "python",
   "name": "python3"
  },
  "language_info": {
   "codemirror_mode": {
    "name": "ipython",
    "version": 3
   },
   "file_extension": ".py",
   "mimetype": "text/x-python",
   "name": "python",
   "nbconvert_exporter": "python",
   "pygments_lexer": "ipython3",
   "version": "3.10.7"
  },
  "vscode": {
   "interpreter": {
    "hash": "7fcbac3f2a4cd0583df9c361ad1c48618a8e6436c28c16eb11d4d4c8c769b93f"
   }
  }
 },
 "nbformat": 4,
 "nbformat_minor": 2
}
