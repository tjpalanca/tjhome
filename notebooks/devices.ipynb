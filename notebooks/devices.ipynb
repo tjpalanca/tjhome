{
 "cells": [
  {
   "cell_type": "markdown",
   "metadata": {},
   "source": [
    "## Devices \n",
    "\n",
    "> Interfaces to the various smart home providers"
   ]
  },
  {
   "cell_type": "code",
   "execution_count": null,
   "metadata": {},
   "outputs": [],
   "source": [
    "# | default_exp devices\n",
    "# | export\n",
    "from pydantic import BaseModel\n",
    "from tuya_iot import TuyaOpenAPI"
   ]
  },
  {
   "cell_type": "markdown",
   "metadata": {},
   "source": [
    "## Base Models"
   ]
  },
  {
   "cell_type": "code",
   "execution_count": 2,
   "metadata": {},
   "outputs": [],
   "source": [
    "# | export\n",
    "class Device:\n",
    "    \"Base class for all smart home devices\"\n",
    "\n",
    "\n",
    "class AirPurifier:\n",
    "    \"Air Purifier device\"\n",
    "\n",
    "\n",
    "class Fan(Device):\n",
    "    \"A Fan device\"\n",
    "\n",
    "\n",
    "class CeilingFan(Device):\n",
    "    \"A Fan that is attached to the ceiling\""
   ]
  },
  {
   "cell_type": "code",
   "execution_count": null,
   "metadata": {},
   "outputs": [],
   "source": [
    "from nbdev.showdoc import show_doc"
   ]
  },
  {
   "cell_type": "markdown",
   "metadata": {},
   "source": [
    "## Air Purifier\n",
    "\n",
    "We create a `TuyaAirPurifier` that we can use to turn on and off the air purifier."
   ]
  },
  {
   "cell_type": "code",
   "execution_count": null,
   "metadata": {},
   "outputs": [],
   "source": [
    "# | export\n",
    "class TuyaAirPurifier(BaseModel, AirPurifier):\n",
    "    \"\"\"Purifiers controlled by a Tuya Smart Switch\"\"\"\n",
    "\n",
    "    device_id: str\n",
    "    client_id: str\n",
    "    client_secret: str\n",
    "    country_code: str\n",
    "    username: str\n",
    "    password: str\n",
    "    endpoint: str = \"https://openapi.tuyaus.com\"\n",
    "    appschema: str = \"smartLife\"\n",
    "\n",
    "    def __post_init__(self):\n",
    "        self.client = TuyaOpenAPI(self.endpoint, self.client_id, self.client_secret)\n",
    "        self.client.connect(\n",
    "            self.username, self.password, self.country_code, self.appschema\n",
    "        )\n",
    "\n",
    "    def switch(self, on: bool = True):\n",
    "        self.client.post(\n",
    "            f\"/v1.0/devices/{self.device_id}/commands\",\n",
    "            {\"commands\": [{\"code\": \"switch_1\", \"value\": on}]},\n",
    "        )\n",
    "\n",
    "    def turn_on(self):\n",
    "        self.switch(True)\n",
    "\n",
    "    def turn_off(self):\n",
    "        self.switch(False)"
   ]
  }
 ],
 "metadata": {
  "kernelspec": {
   "display_name": "Python 3.10.7 ('.venv': poetry)",
   "language": "python",
   "name": "python3"
  },
  "language_info": {
   "codemirror_mode": {
    "name": "ipython",
    "version": 3
   },
   "file_extension": ".py",
   "mimetype": "text/x-python",
   "name": "python",
   "nbconvert_exporter": "python",
   "pygments_lexer": "ipython3",
   "version": "3.10.7"
  },
  "vscode": {
   "interpreter": {
    "hash": "7fcbac3f2a4cd0583df9c361ad1c48618a8e6436c28c16eb11d4d4c8c769b93f"
   }
  }
 },
 "nbformat": 4,
 "nbformat_minor": 2
}
