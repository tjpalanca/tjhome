{
 "cells": [
  {
   "cell_type": "markdown",
   "metadata": {},
   "source": [
    "# TJHome "
   ]
  },
  {
   "cell_type": "markdown",
   "metadata": {},
   "source": [
    "> TJ's Smart Home Utilities"
   ]
  }
 ],
 "metadata": {},
 "nbformat": 4,
 "nbformat_minor": 2
}
