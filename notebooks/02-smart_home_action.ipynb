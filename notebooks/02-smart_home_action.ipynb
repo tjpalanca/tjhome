{
 "cells": [
  {
   "cell_type": "markdown",
   "metadata": {},
   "source": [
    "# Smart Home Action \n",
    "\n",
    "> Set up a custom smart home action to control some devices that require composite actions."
   ]
  },
  {
   "cell_type": "markdown",
   "metadata": {},
   "source": [
    "## Motivation\n",
    "\n",
    "* I have a ceiling fan with a light that can be controlled by two things:\n",
    "    * A light switch actuated by a [Switchbot](https://www.switch-bot.com/), and\n",
    "    * the ceiling fan itself controlled by a [Tuya RF Controller](https://expo.tuya.com/product/854009)\n",
    "* I want to be able to control the light and fan from Google Assistant.\n"
   ]
  },
  {
   "cell_type": "markdown",
   "metadata": {},
   "source": [
    "## Work Log\n",
    "\n",
    "* Set up the necessary project in Google cloud to create a smart home action \n",
    "    * **Warning:** If you create a smart home action on an existing project, then delete the project from the Actions Console, you will delete the GCP project as well. Thankfully, things can be restored!|\n",
    "* I had set up terraform to point to port 3838 on my development server, so that I can create a Smart Home Action.\n",
    "    * Nifty that you can reference a github address as a module, so I just took the module from [TJCloud](https://github.com/tjpalanca/tjcloud)"
   ]
  },
  {
   "cell_type": "markdown",
   "metadata": {},
   "source": []
  }
 ],
 "metadata": {
  "kernelspec": {
   "display_name": "Python 3.10.7 ('.venv': poetry)",
   "language": "python",
   "name": "python3"
  },
  "language_info": {
   "name": "python",
   "version": "3.10.7"
  },
  "orig_nbformat": 4,
  "vscode": {
   "interpreter": {
    "hash": "7fcbac3f2a4cd0583df9c361ad1c48618a8e6436c28c16eb11d4d4c8c769b93f"
   }
  }
 },
 "nbformat": 4,
 "nbformat_minor": 2
}
