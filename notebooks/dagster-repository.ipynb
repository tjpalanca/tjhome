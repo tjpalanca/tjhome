{
 "cells": [
  {
   "cell_type": "markdown",
   "metadata": {},
   "source": [
    "## Dagster Repository \n",
    "\n",
    "> This is the central Dagster Repository that stores all the jobs, ready to be imported by a Dagster installation."
   ]
  },
  {
   "cell_type": "code",
   "execution_count": null,
   "metadata": {},
   "outputs": [],
   "source": [
    "# | default_exp dagster.repository\n",
    "# | export\n",
    "from dagster import repository\n",
    "from tjhome.dagster.air_quality import (\n",
    "    regulate_air_quality,\n",
    "    regulate_air_quality_schedule,\n",
    ")\n",
    "\n",
    "\n",
    "@repository\n",
    "def tjhome():\n",
    "    return [regulate_air_quality, regulate_air_quality_schedule]"
   ]
  }
 ],
 "metadata": {
  "kernelspec": {
   "display_name": "Python 3.10.7 ('.venv': poetry)",
   "language": "python",
   "name": "python3"
  }
 },
 "nbformat": 4,
 "nbformat_minor": 2
}
