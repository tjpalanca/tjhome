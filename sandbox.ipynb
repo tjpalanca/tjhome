{
 "cells": [
  {
   "cell_type": "code",
   "execution_count": null,
   "metadata": {},
   "outputs": [
    {
     "ename": "HttpError",
     "evalue": "<HttpError 404 when requesting https://homegraph.googleapis.com/v1/devices:requestSync?alt=json returned \"Requested entity was not found.\". Details: \"Requested entity was not found.\">",
     "output_type": "error",
     "traceback": [
      "\u001b[0;31m---------------------------------------------------------------------------\u001b[0m\n",
      "\n",
      "\u001b[0;31mHttpError\u001b[0m                                 Traceback (most recent call last)\n",
      "\n",
      "Cell \u001b[0;32mIn [51], line 12\u001b[0m\n",
      "\n",
      "\u001b[1;32m      8\u001b[0m homegraph \u001b[38;5;241m=\u001b[39m build(\u001b[38;5;124m'\u001b[39m\u001b[38;5;124mhomegraph\u001b[39m\u001b[38;5;124m'\u001b[39m, \u001b[38;5;124m'\u001b[39m\u001b[38;5;124mv1\u001b[39m\u001b[38;5;124m'\u001b[39m, credentials\u001b[38;5;241m=\u001b[39mcredentials)\n",
      "\n",
      "\u001b[1;32m      9\u001b[0m a \u001b[38;5;241m=\u001b[39m homegraph\u001b[38;5;241m.\u001b[39mdevices()\n",
      "\n",
      "\u001b[1;32m     10\u001b[0m a \u001b[38;5;241m=\u001b[39m \u001b[43ma\u001b[49m\u001b[38;5;241;43m.\u001b[39;49m\u001b[43mrequestSync\u001b[49m\u001b[43m(\u001b[49m\u001b[43mbody\u001b[49m\u001b[38;5;241;43m=\u001b[39;49m\u001b[43m{\u001b[49m\n",
      "\n",
      "\u001b[1;32m     11\u001b[0m \u001b[43m  \u001b[49m\u001b[38;5;124;43m\"\u001b[39;49m\u001b[38;5;124;43magentUserId\u001b[39;49m\u001b[38;5;124;43m\"\u001b[39;49m\u001b[43m:\u001b[49m\u001b[43m \u001b[49m\u001b[38;5;124;43m\"\u001b[39;49m\u001b[38;5;124;43m1234\u001b[39;49m\u001b[38;5;124;43m\"\u001b[39;49m\n",
      "\n",
      "\u001b[0;32m---> 12\u001b[0m \u001b[43m}\u001b[49m\u001b[43m)\u001b[49m\u001b[38;5;241;43m.\u001b[39;49m\u001b[43mexecute\u001b[49m\u001b[43m(\u001b[49m\u001b[43m)\u001b[49m \n",
      "\n",
      "\u001b[1;32m     13\u001b[0m a\n",
      "\n",
      "\n",
      "\n",
      "File \u001b[0;32m~/projects/tjhome/.venv/lib/python3.10/site-packages/googleapiclient/_helpers.py:130\u001b[0m, in \u001b[0;36mpositional.<locals>.positional_decorator.<locals>.positional_wrapper\u001b[0;34m(*args, **kwargs)\u001b[0m\n",
      "\n",
      "\u001b[1;32m    128\u001b[0m     \u001b[39melif\u001b[39;00m positional_parameters_enforcement \u001b[39m==\u001b[39m POSITIONAL_WARNING:\n",
      "\n",
      "\u001b[1;32m    129\u001b[0m         logger\u001b[39m.\u001b[39mwarning(message)\n",
      "\n",
      "\u001b[0;32m--> 130\u001b[0m \u001b[39mreturn\u001b[39;00m wrapped(\u001b[39m*\u001b[39;49margs, \u001b[39m*\u001b[39;49m\u001b[39m*\u001b[39;49mkwargs)\n",
      "\n",
      "\n",
      "\n",
      "File \u001b[0;32m~/projects/tjhome/.venv/lib/python3.10/site-packages/googleapiclient/http.py:938\u001b[0m, in \u001b[0;36mHttpRequest.execute\u001b[0;34m(self, http, num_retries)\u001b[0m\n",
      "\n",
      "\u001b[1;32m    936\u001b[0m     callback(resp)\n",
      "\n",
      "\u001b[1;32m    937\u001b[0m \u001b[39mif\u001b[39;00m resp\u001b[39m.\u001b[39mstatus \u001b[39m>\u001b[39m\u001b[39m=\u001b[39m \u001b[39m300\u001b[39m:\n",
      "\n",
      "\u001b[0;32m--> 938\u001b[0m     \u001b[39mraise\u001b[39;00m HttpError(resp, content, uri\u001b[39m=\u001b[39m\u001b[39mself\u001b[39m\u001b[39m.\u001b[39muri)\n",
      "\n",
      "\u001b[1;32m    939\u001b[0m \u001b[39mreturn\u001b[39;00m \u001b[39mself\u001b[39m\u001b[39m.\u001b[39mpostproc(resp, content)\n",
      "\n",
      "\n",
      "\n",
      "\u001b[0;31mHttpError\u001b[0m: <HttpError 404 when requesting https://homegraph.googleapis.com/v1/devices:requestSync?alt=json returned \"Requested entity was not found.\". Details: \"Requested entity was not found.\">"
     ]
    }
   ],
   "source": [
    "from googleapiclient.discovery import build\n",
    "from google.oauth2 import service_account\n",
    "\n",
    "credentials = service_account.Credentials.from_service_account_file(\n",
    "    \".secrets/tjhome_service_account.json\"\n",
    ")\n",
    "\n",
    "# Optionally, view the email address of the authenticated user.\n",
    "homegraph = build(\"homegraph\", \"v1\", credentials=credentials)\n",
    "a = homegraph.devices()\n",
    "a = a.requestSync(body={\"agentUserId\": \"1234\"}).execute()\n",
    "a"
   ]
  },
  {
   "cell_type": "code",
   "execution_count": null,
   "metadata": {},
   "outputs": [
    {
     "data": {
      "text/plain": [
       "<Response [404]>"
      ]
     },
     "metadata": {},
     "output_type": "display_data"
    }
   ],
   "source": [
    "import requests\n",
    "\n",
    "requests.post(\"http://localhost:3838/google/fulfillment\", data={\"agentUserId\": \"1234\"})"
   ]
  }
 ],
 "metadata": {
  "kernelspec": {
   "display_name": "Python 3.10.7 ('.venv': poetry)",
   "language": "python",
   "name": "python3"
  },
  "language_info": {
   "codemirror_mode": {
    "name": "ipython",
    "version": 3
   },
   "file_extension": ".py",
   "mimetype": "text/x-python",
   "name": "python",
   "nbconvert_exporter": "python",
   "pygments_lexer": "ipython3",
   "version": "3.10.7"
  },
  "orig_nbformat": 4,
  "vscode": {
   "interpreter": {
    "hash": "7fcbac3f2a4cd0583df9c361ad1c48618a8e6436c28c16eb11d4d4c8c769b93f"
   }
  }
 },
 "nbformat": 4,
 "nbformat_minor": 2
}
